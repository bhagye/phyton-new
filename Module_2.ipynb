{
  "nbformat": 4,
  "nbformat_minor": 0,
  "metadata": {
    "colab": {
      "name": "Module.2",
      "provenance": [],
      "collapsed_sections": [],
      "authorship_tag": "ABX9TyOI51U+5GgiRM0YEpIkIBTm",
      "include_colab_link": true
    },
    "kernelspec": {
      "name": "python3",
      "display_name": "Python 3"
    },
    "language_info": {
      "name": "python"
    }
  },
  "cells": [
    {
      "cell_type": "markdown",
      "metadata": {
        "id": "view-in-github",
        "colab_type": "text"
      },
      "source": [
        "<a href=\"https://colab.research.google.com/github/bhagye/phyton-new/blob/module-2/Module_2.ipynb\" target=\"_parent\"><img src=\"https://colab.research.google.com/assets/colab-badge.svg\" alt=\"Open In Colab\"/></a>"
      ]
    },
    {
      "cell_type": "code",
      "source": [
        "#Recursive function to compute GCD of 2 numbers\n",
        "def GCD(x,y):\n",
        " r=x%y\n",
        " if(r==0):\n",
        "    return y\n",
        " else:\n",
        "  return GCD(y,r)\n",
        "a= int(input(\"Enter the first number :\"))\n",
        "b= int(input(\"Enter the second number :\"))\n",
        "print(\"The GCD of two numbers is:\", GCD(a,b))"
      ],
      "metadata": {
        "colab": {
          "base_uri": "https://localhost:8080/"
        },
        "id": "6fIT2YSNz3_u",
        "outputId": "9fb71acb-712e-4057-cb8e-7f0cf6704916"
      },
      "execution_count": null,
      "outputs": [
        {
          "output_type": "stream",
          "name": "stdout",
          "text": [
            "Enter the first number :2\n",
            "Enter the second number :4\n",
            "The GCD of two numbers is: 2\n"
          ]
        }
      ]
    },
    {
      "cell_type": "code",
      "source": [
        "## Program to find the second smallest number and second largest number in a list\n",
        "def find_len(list1):\n",
        "    length = len(list1)\n",
        "    list1.sort()\n",
        "    print(\"Second Largest element is:\", list1[length-2])\n",
        "    print(\"Second Smallest element is:\", list1[1])\n",
        "list1=[12, 45, 2, 41, 31, 10, 8, 6, 4]\n",
        "Largest = find_len(list1)"
      ],
      "metadata": {
        "colab": {
          "base_uri": "https://localhost:8080/"
        },
        "id": "dc6n0H8W_hnf",
        "outputId": "0ea00614-ae6d-4d98-ddc6-a157712b7bcc"
      },
      "execution_count": null,
      "outputs": [
        {
          "output_type": "stream",
          "name": "stdout",
          "text": [
            "Second Largest element is: 41\n",
            "Second Smallest element is: 4\n"
          ]
        }
      ]
    },
    {
      "cell_type": "code",
      "source": [
        "#Recursive function to find product of two numbers\n",
        "def product(a,b):\n",
        "  if (a<b):\n",
        "      return product(b,a)\n",
        "  elif(b!=0):\n",
        "      return(a+product(a,b-1))\n",
        "  else:\n",
        "      return 0\n",
        "a=int(input(\"Enter first number: \"))\n",
        "b=int(input(\"Enter second number: \"))\n",
        "print(\"Product is: \",product(a,b))\n",
        "\n"
      ],
      "metadata": {
        "colab": {
          "base_uri": "https://localhost:8080/"
        },
        "id": "1CiVgPeNAS6q",
        "outputId": "b0bd414e-f330-4ae5-9871-83fd58f35c03"
      },
      "execution_count": null,
      "outputs": [
        {
          "output_type": "stream",
          "name": "stdout",
          "text": [
            "Enter first number: 20\n",
            "Enter second number: 30\n",
            "Product is:  600\n"
          ]
        }
      ]
    },
    {
      "cell_type": "code",
      "source": [
        "#Recursive function to generate Fibonacci series\n",
        "def recur_fibo(n):\n",
        "    if n <= 1:\n",
        "      return n\n",
        "    else:\n",
        "      return(recur_fibo(n-1) + recur_fibo(n-2))\n",
        "nterms = int(input(\"Enter how many terms of fibonnacci series you want: \"))\n",
        "# check if the number of terms is valid\n",
        "if nterms <= 0:\n",
        "    print(\"Plese enter a positive integer\")\n",
        "else:\n",
        "   print(\"Fibonacci sequence:\")\n",
        "for i in range(0,nterms):\n",
        "   print(\" \" ,recur_fibo(i) , end=\"\")"
      ],
      "metadata": {
        "colab": {
          "base_uri": "https://localhost:8080/"
        },
        "id": "U-ykNJ1DBC-M",
        "outputId": "19fa406c-73c3-4a87-e778-7bad6ee67721"
      },
      "execution_count": null,
      "outputs": [
        {
          "output_type": "stream",
          "name": "stdout",
          "text": [
            "Enter how many terms of fibonnacci series you want: 7\n",
            "Fibonacci sequence:\n",
            "  0  1  1  2  3  5  8"
          ]
        }
      ]
    },
    {
      "cell_type": "code",
      "source": [
        "#Program to get the difference between the two lists\n",
        "list1 = [1, 3, 5, 7, 9]\n",
        "list2=[1, 2, 4, 6, 7, 8]\n",
        "diff_list1_list2 = list(set(list1) - set(list2))\n",
        "diff_list2_list1 = list(set(list2) - set(list1))\n",
        "total_diff = diff_list1_list2 + diff_list2_list1\n",
        "print(total_diff)\n",
        "[9, 3, 5, 8, 2, 4, 6]"
      ],
      "metadata": {
        "colab": {
          "base_uri": "https://localhost:8080/"
        },
        "id": "mFCdN26pByl_",
        "outputId": "af449d16-836e-46ae-9817-4297d49788bf"
      },
      "execution_count": null,
      "outputs": [
        {
          "output_type": "stream",
          "name": "stdout",
          "text": [
            "[9, 3, 5, 8, 2, 4, 6]\n"
          ]
        },
        {
          "output_type": "execute_result",
          "data": {
            "text/plain": [
              "[9, 3, 5, 8, 2, 4, 6]"
            ]
          },
          "metadata": {},
          "execution_count": 11
        }
      ]
    },
    {
      "cell_type": "code",
      "source": [
        "#Program to find the second smallest number and secondlargest number in a list\n",
        "def find_len(list1):\n",
        "   length = len(list1)\n",
        "   list1.sort()\n",
        "   print(\"Largest element is:\", list1[length - 1])\n",
        "   print(\"Smallest element is:\", list1[0])\n",
        "   print(\"Second Largest element is:\", list1[length - 2])\n",
        "   print(\"Second Smallest element is:\", list1[1])\n",
        "a=int(input(\"Enter the no. of terms in list: \"))\n",
        "list1=[]\n",
        "for i in range (0,a):\n",
        "    t=input(\"Enter element: \")\n",
        "    list1.append(t)\n",
        "Largest = find_len(list1)\n",
        "     \n",
        "    "
      ],
      "metadata": {
        "colab": {
          "base_uri": "https://localhost:8080/"
        },
        "id": "37Er3kbpCEpg",
        "outputId": "81d75a90-4e6a-44a4-92f5-aabc2217f82c"
      },
      "execution_count": null,
      "outputs": [
        {
          "output_type": "stream",
          "name": "stdout",
          "text": [
            "Enter the no. of terms in list: 2\n",
            "Enter element: 3\n",
            "Enter element: 4\n",
            "Largest element is: 4\n",
            "Smallest element is: 3\n",
            "Second Largest element is: 3\n",
            "Second Smallest element is: 4\n"
          ]
        }
      ]
    },
    {
      "cell_type": "code",
      "source": [
        "## Given list of tuples, remove all the tuples with length K\n",
        "bhagy=[(8,7),(5,),(4,3,9),(7,),(6,46,8)]\n",
        "print(bhagy)\n",
        "k=2\n",
        "print(k)\n",
        "you=[x for x in bhagy if len(x) !=k]\n",
        "print(you)"
      ],
      "metadata": {
        "colab": {
          "base_uri": "https://localhost:8080/"
        },
        "id": "fat5ZLVkgDdE",
        "outputId": "66eb7302-df04-4147-9d25-8b683acb3b60"
      },
      "execution_count": null,
      "outputs": [
        {
          "output_type": "stream",
          "name": "stdout",
          "text": [
            "[(8, 7), (5,), (4, 3, 9), (7,), (6, 46, 8)]\n",
            "2\n",
            "[(5,), (4, 3, 9), (7,), (6, 46, 8)]\n"
          ]
        }
      ]
    },
    {
      "cell_type": "code",
      "source": [
        "## Program to generate and print a dictionary that contains a number (between 1 and n) in the form (x, x*x)\n",
        "n=int(input(\"Enter a number\"))\n",
        "h=dict()\n",
        "for x in range(1,n+1):\n",
        " h[x]=x*x\n",
        "print(h)"
      ],
      "metadata": {
        "colab": {
          "base_uri": "https://localhost:8080/"
        },
        "id": "ctTyTtiEhQ2x",
        "outputId": "c9e39559-b28e-46a6-914d-82ed37da4935"
      },
      "execution_count": null,
      "outputs": [
        {
          "output_type": "stream",
          "name": "stdout",
          "text": [
            "Enter a number8\n",
            "{1: 1, 2: 4, 3: 9, 4: 16, 5: 25, 6: 36, 7: 49, 8: 64}\n"
          ]
        }
      ]
    },
    {
      "cell_type": "code",
      "source": [
        "## Program to get the maximum and minimum value in a dictionary\n",
        "pradeep={\n",
        "  \"a\":78,\n",
        "  \"b\":87,\n",
        "  \"c\":86,\n",
        "  \"d\":65\n",
        "}\n",
        "maxim_value=max(pradeep,key=pradeep.get)\n",
        "min_value=min(pradeep,key=pradeep.get)\n",
        "print(\"The maximum value in the dictionary is\")\n",
        "print(maxim_value,\":\",pradeep[maxim_value])\n",
        "print(\"The minimum value in the dictionary is\")\n",
        "print(min_value,\":\",pradeep[min_value])"
      ],
      "metadata": {
        "colab": {
          "base_uri": "https://localhost:8080/"
        },
        "id": "QH06VGEDhrIK",
        "outputId": "10c79fd3-bd10-4341-e070-9c22cff1f9f0"
      },
      "execution_count": null,
      "outputs": [
        {
          "output_type": "stream",
          "name": "stdout",
          "text": [
            "The maximum value in the dictionary is\n",
            "b : 87\n",
            "The minimum value in the dictionary is\n",
            "d : 65\n"
          ]
        }
      ]
    },
    {
      "cell_type": "code",
      "source": [
        "## Program to perform operations on string using unicodes ,splitting of string,accessing elements of string using locations\n",
        "pradeep=input(\"Enter a string:\")\n",
        "a=pradeep.split()\n",
        "print(a)\n",
        "c=pradeep.encode()\n",
        "print(c)\n",
        "print(pradeep[3:10])"
      ],
      "metadata": {
        "colab": {
          "base_uri": "https://localhost:8080/"
        },
        "id": "XgBw7RroiDc-",
        "outputId": "60361809-165a-4a2a-93a9-93b09baacd78"
      },
      "execution_count": null,
      "outputs": [
        {
          "output_type": "stream",
          "name": "stdout",
          "text": [
            "Enter a string:8\n",
            "['8']\n",
            "b'8'\n",
            "\n"
          ]
        }
      ]
    },
    {
      "cell_type": "code",
      "source": [
        "## Program for Counting occurrence of a certain element in a string, getting indexes that have matching elements\n",
        "a=\"dog\"\n",
        "print(\"In dog \\\"b\\\" has repeated\",a.count(\"b\"),\"times\")\n",
        "x=\"I have to go to a doctor and get myself checked\"\n",
        "print(\"In the above sentence \\\"to\\\" has repeated\",x.count(\"to\"),\"times\")"
      ],
      "metadata": {
        "colab": {
          "base_uri": "https://localhost:8080/"
        },
        "id": "zWsLE0USiTnR",
        "outputId": "2cca3a6f-c9de-4323-e50c-ac067e686c08"
      },
      "execution_count": null,
      "outputs": [
        {
          "output_type": "stream",
          "name": "stdout",
          "text": [
            "In dog \"b\" has repeated 0 times\n",
            "In the above sentence \"to\" has repeated 3 times\n"
          ]
        }
      ]
    },
    {
      "cell_type": "code",
      "source": [
        "## Program for replacing one substring by another\n",
        "pradeep=\"dog\"\n",
        "print(pradeep.replace(\"bb\",\"cc\"))"
      ],
      "metadata": {
        "colab": {
          "base_uri": "https://localhost:8080/"
        },
        "id": "qw13LESZipmg",
        "outputId": "fef10515-7684-4176-9d7b-612ffde2f7e3"
      },
      "execution_count": null,
      "outputs": [
        {
          "output_type": "stream",
          "name": "stdout",
          "text": [
            "dog\n"
          ]
        }
      ]
    },
    {
      "cell_type": "code",
      "source": [
        "## Python function that accepts a string and calculates the number of uppercase letters and lowercase letters\n",
        "a=\"Rise Roar Revolt\"\n",
        "upp=0\n",
        "low=0\n",
        "for x in a:\n",
        " if x.isupper():\n",
        "  upp=upp+1\n",
        " elif x.islower():\n",
        "  low=low+1\n",
        "else:\n",
        "  pass\n",
        "print(\"No of upper case letters are:\",upp)\n",
        "print(\"No of lower case letters are:\",low)"
      ],
      "metadata": {
        "colab": {
          "base_uri": "https://localhost:8080/"
        },
        "id": "SeS38a2Fi2SS",
        "outputId": "78484da4-0dde-4a48-9f39-69ec5f145735"
      },
      "execution_count": null,
      "outputs": [
        {
          "output_type": "stream",
          "name": "stdout",
          "text": [
            "No of upper case letters are: 3\n",
            "No of lower case letters are: 11\n"
          ]
        }
      ]
    },
    {
      "cell_type": "code",
      "source": [
        "## Program to count the number of strings where the string length is 2 or more and the first and last character are same from a given list of strings\n",
        "bhagy= ['abc', 'xyz', 'aba', '2321']\n",
        "count=0\n",
        "for x in bhagy:\n",
        " if len(x)>1 and x[0]==x[-1]:\n",
        "  print(\"The wanted strings are:\",x)\n",
        "count=count+1\n",
        "print(\"The number of strings with given conditions are:\",count)"
      ],
      "metadata": {
        "colab": {
          "base_uri": "https://localhost:8080/"
        },
        "id": "6TU2hXVQi2ZM",
        "outputId": "7e3b9261-998d-4eaa-c42d-f1f34ebfe401"
      },
      "execution_count": null,
      "outputs": [
        {
          "output_type": "stream",
          "name": "stdout",
          "text": [
            "The wanted strings are: aba\n",
            "The number of strings with given conditions are: 1\n"
          ]
        }
      ]
    },
    {
      "cell_type": "code",
      "execution_count": null,
      "metadata": {
        "colab": {
          "base_uri": "https://localhost:8080/"
        },
        "id": "uAobWBJ1jovs",
        "outputId": "6d906977-973b-4601-e942-770d98bbee7f"
      },
      "outputs": [
        {
          "output_type": "stream",
          "name": "stdout",
          "text": [
            "5\n",
            "2\n",
            "10\n"
          ]
        }
      ],
      "source": [
        "#create a function which accepts two inputs from the user and compute nCr \n",
        "def nCr(a,b):\n",
        "  return(fact(a)/(fact(b)\n",
        "                 *fact(a-b)))\n",
        "a=int(input(\"\"))\n",
        "b=int(input(\"\"))\n",
        "def fact(a):\n",
        "  res=1\n",
        "  for i in range(2,a+1):3\n",
        "   res=res*i\n",
        "  return res\n",
        "print(int(nCr(a,b)))\n",
        "\n"
      ]
    }
  ]
}