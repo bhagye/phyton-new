{
  "cells": [
    {
      "cell_type": "markdown",
      "metadata": {
        "id": "view-in-github",
        "colab_type": "text"
      },
      "source": [
        "<a href=\"https://colab.research.google.com/github/bhagye/phyton-new/blob/module-3/Untitled_Copy1.ipynb\" target=\"_parent\"><img src=\"https://colab.research.google.com/assets/colab-badge.svg\" alt=\"Open In Colab\"/></a>"
      ]
    },
    {
      "cell_type": "code",
      "execution_count": null,
      "id": "115cf6fd",
      "metadata": {
        "id": "115cf6fd",
        "outputId": "345c2cde-71d9-48ed-957a-d27cc5947461"
      },
      "outputs": [
        {
          "name": "stdout",
          "output_type": "stream",
          "text": [
            "   s.no  lunch(veg)   lunch(non veg) tiffins dinner\n",
            "0     1  fried rice  chicken biryani    dosa  rasam\n",
            "1     2     biryani       fish curry    idly   curd\n",
            "2     3    icecream         icecream   poori    dal\n"
          ]
        }
      ],
      "source": [
        "import pandas as pd\n",
        "\n",
        "df = pd.read_csv('C:\\\\Users\\HP\\Desktop\\menu.csv')\n",
        "\n",
        "print(df.to_string())"
      ]
    },
    {
      "cell_type": "code",
      "execution_count": null,
      "id": "464e7f58",
      "metadata": {
        "id": "464e7f58",
        "outputId": "8ba351f6-f29b-4823-8ed4-4c4c02cbade0"
      },
      "outputs": [
        {
          "name": "stdout",
          "output_type": "stream",
          "text": [
            "    s.no      name  marks\n",
            "0      1  bhagyesh     94\n",
            "1      2   aravind     98\n",
            "2      3    harsha     96\n",
            "3      4     subbu     98\n"
          ]
        }
      ],
      "source": [
        "import pandas as pd\n",
        "\n",
        "df = pd.read_csv('C:\\\\Users\\HP\\Desktop\\Marks.csv')\n",
        "\n",
        "print(df.to_string()) "
      ]
    },
    {
      "cell_type": "code",
      "execution_count": null,
      "id": "20140d2d",
      "metadata": {
        "id": "20140d2d"
      },
      "outputs": [],
      "source": [
        ""
      ]
    },
    {
      "cell_type": "code",
      "execution_count": null,
      "id": "37105dfe",
      "metadata": {
        "id": "37105dfe",
        "outputId": "2dc6d649-56d5-4a83-9fb1-8bb8b8969975"
      },
      "outputs": [
        {
          "name": "stdout",
          "output_type": "stream",
          "text": [
            "     session  number of kgs\n",
            "0    morning             25\n",
            "1  afternoon             30\n",
            "2      night             45\n"
          ]
        }
      ],
      "source": [
        "import pandas\n",
        "mydataset = {'session': [\"morning\", \"afternoon\", \"night\"],'number of kgs': [25,30,45]}\n",
        "myvar = pandas.DataFrame(mydataset)\n",
        "print(myvar)"
      ]
    },
    {
      "cell_type": "code",
      "execution_count": null,
      "id": "586d6118",
      "metadata": {
        "id": "586d6118",
        "outputId": "1c4659bb-90af-42e4-ea7c-ab6766d4174e"
      },
      "outputs": [
        {
          "name": "stdout",
          "output_type": "stream",
          "text": [
            "1.3.4\n"
          ]
        }
      ],
      "source": [
        "import pandas as pd\n",
        "print(pd.__version__)"
      ]
    },
    {
      "cell_type": "code",
      "execution_count": null,
      "id": "2503f8f8",
      "metadata": {
        "id": "2503f8f8",
        "outputId": "f0d16225-9858-4dc6-b70a-ede78e94c58c"
      },
      "outputs": [
        {
          "name": "stdout",
          "output_type": "stream",
          "text": [
            "0     2.00\n",
            "1    85.45\n",
            "dtype: float64\n"
          ]
        }
      ],
      "source": [
        "import pandas as pd\n",
        "a = [2,85.45]\n",
        "b = pd.Series(a)\n",
        "print(b)"
      ]
    },
    {
      "cell_type": "code",
      "execution_count": null,
      "id": "208f2cc1",
      "metadata": {
        "id": "208f2cc1",
        "outputId": "bbe87229-a5c1-4be3-9a44-87a99fad8a1c"
      },
      "outputs": [
        {
          "name": "stdout",
          "output_type": "stream",
          "text": [
            "1      chaitu\n",
            "2     aravind\n",
            "3    bhagyesh\n",
            "dtype: object\n"
          ]
        }
      ],
      "source": [
        "import pandas as pd\n",
        "a = ['chaitu','aravind','bhagyesh']\n",
        "b = pd.Series(a, index = ['1','2','3'])\n",
        "print(b)\n"
      ]
    },
    {
      "cell_type": "code",
      "execution_count": null,
      "id": "0f833762",
      "metadata": {
        "id": "0f833762"
      },
      "outputs": [],
      "source": [
        ""
      ]
    },
    {
      "cell_type": "code",
      "execution_count": null,
      "id": "ffda5085",
      "metadata": {
        "id": "ffda5085",
        "outputId": "a808ce80-d61f-4ca5-885c-aa9acd7b9c3b"
      },
      "outputs": [
        {
          "name": "stdout",
          "output_type": "stream",
          "text": [
            "    s.no     Name   Age      mobile         mail mail.1  mail.2  Unnamed: 7  \\\n",
            "0      1  bhagyesh   18  9874581585  **@gitam.in    NaN   *****         NaN   \n",
            "1      2    chaitu   18  7780442077  **@gitam.in    .in   *****         NaN   \n",
            "2      3   aravind   17  7780442088  **@gitam.in    NaN  ******         NaN   \n",
            "3      4   harsha    17  7780442011  **@gitam.in    NaN   *****         NaN   \n",
            "4      5   karthik   17  9875638271  **@gitam.in    NaN   *****         NaN   \n",
            "5      6     subbu   18  8294629163  **@gitam.in    NaN   *****         NaN   \n",
            "6      7    nithin   19  2738263826  **@gitam.in    NaN   *****         NaN   \n",
            "7      8      jogi   22  6382936237  **@gitam.in    NaN    ****         NaN   \n",
            "8      9      banu   20  3563726372  **@gitam.in    NaN  ******         NaN   \n",
            "9     10      puli   20  8982773628  **@gitam.in    NaN   *****         NaN   \n",
            "10    11   dhanush   18  9989348838  **@gitam.in    NaN    ****         NaN   \n",
            "11    12  prabhas    18  7981769148  **@gitam.in    NaN   *****         NaN   \n",
            "12    13     pavan   18  8341287189  **@gitam.in    NaN  ******         NaN   \n",
            "13    14   pranav    19  9989368264  **@gitam.in    NaN   *****         NaN   \n",
            "14    15     kiran   18  4729346292  **@gitam.in    NaN  ******         NaN   \n",
            "15    16     tarun   18  9273461836  **@gitam.in    NaN   *****         NaN   \n",
            "16    17     varun   18  8193728361  **@gitam.in    NaN   *****         NaN   \n",
            "17    18    sativk   18  9361836173  **@gitam.in    NaN    ****         NaN   \n",
            "18    19   jayanth   19  9374683654  **@gitam.in    NaN    ****         NaN   \n",
            "19    20   sandeep   19  9163518458  **@gitam.in    NaN   *****         NaN   \n",
            "20    21      sai    18  8631458537  **@gitam.in    NaN   *****         NaN   \n",
            "21    22    charan   18  9784143538  **@gitam.in    NaN    ****         NaN   \n",
            "22    23    mukesh   18  9135926954  **@gitam.in    NaN   *****         NaN   \n",
            "23    24    vikey    18  9156359126  **@gitam.in    NaN   *****         NaN   \n",
            "24    25      para   18  9641586458  **@gitam.in    NaN   *****         NaN   \n",
            "25    26   doremon   18  9162549145  **@gitam.in    NaN  ******         NaN   \n",
            "26    27     phani   18  9135693591  **@gitam.in    NaN   *****         NaN   \n",
            "27    28    partiv   18  9126551955  **@gitam.in    NaN   *****         NaN   \n",
            "28    29     hari    19  1958194192  **@gitam.in    NaN   *****         NaN   \n",
            "29    30     surya   19  9495419516  **@gitam.in    NaN   *****         NaN   \n",
            "\n",
            "    Unnamed: 8  Unnamed: 9  Unnamed: 10  Unnamed: 11  Unnamed: 12 Unnamed: 13  \n",
            "0          NaN         NaN          NaN          NaN          NaN         NaN  \n",
            "1          NaN         NaN          NaN          NaN          NaN         NaN  \n",
            "2          NaN         NaN          NaN          NaN          NaN         NaN  \n",
            "3          NaN         NaN          NaN          NaN          NaN         NaN  \n",
            "4          NaN         NaN          NaN          NaN          NaN         NaN  \n",
            "5          NaN         NaN          NaN          NaN          NaN         NaN  \n",
            "6          NaN         NaN          NaN          NaN          NaN              \n",
            "7          NaN         NaN          NaN          NaN          NaN         NaN  \n",
            "8          NaN         NaN          NaN          NaN          NaN         NaN  \n",
            "9          NaN         NaN          NaN          NaN          NaN         NaN  \n",
            "10         NaN         NaN          NaN          NaN          NaN         NaN  \n",
            "11         NaN         NaN          NaN          NaN          NaN         NaN  \n",
            "12         NaN         NaN          NaN          NaN          NaN         NaN  \n",
            "13         NaN         NaN          NaN          NaN          NaN         NaN  \n",
            "14         NaN         NaN          NaN          NaN          NaN         NaN  \n",
            "15         NaN         NaN          NaN          NaN          NaN         NaN  \n",
            "16         NaN         NaN          NaN          NaN          NaN         NaN  \n",
            "17         NaN         NaN          NaN          NaN          NaN         NaN  \n",
            "18         NaN         NaN          NaN          NaN          NaN         NaN  \n",
            "19         NaN         NaN          NaN          NaN          NaN         NaN  \n",
            "20         NaN         NaN          NaN          NaN          NaN         NaN  \n",
            "21         NaN         NaN          NaN          NaN          NaN         NaN  \n",
            "22         NaN         NaN          NaN          NaN          NaN         NaN  \n",
            "23         NaN         NaN          NaN          NaN          NaN         NaN  \n",
            "24         NaN         NaN          NaN          NaN          NaN         NaN  \n",
            "25         NaN         NaN          NaN          NaN          NaN         NaN  \n",
            "26         NaN         NaN          NaN          NaN          NaN         NaN  \n",
            "27         NaN         NaN          NaN          NaN          NaN         NaN  \n",
            "28         NaN         NaN          NaN          NaN          NaN         NaN  \n",
            "29         NaN         NaN          NaN          NaN          NaN         NaN  \n"
          ]
        }
      ],
      "source": [
        "import pandas as pd\n",
        "a = pd.read_csv('D:\\\\names.csv')\n",
        "b = pd.DataFrame(a)\n",
        "print(b)"
      ]
    },
    {
      "cell_type": "code",
      "execution_count": null,
      "id": "db854042",
      "metadata": {
        "id": "db854042",
        "outputId": "7fd7b1b6-47fd-40cd-9357-f75b2519d76d"
      },
      "outputs": [
        {
          "data": {
            "text/html": [
              "<div>\n",
              "<style scoped>\n",
              "    .dataframe tbody tr th:only-of-type {\n",
              "        vertical-align: middle;\n",
              "    }\n",
              "\n",
              "    .dataframe tbody tr th {\n",
              "        vertical-align: top;\n",
              "    }\n",
              "\n",
              "    .dataframe thead th {\n",
              "        text-align: right;\n",
              "    }\n",
              "</style>\n",
              "<table border=\"1\" class=\"dataframe\">\n",
              "  <thead>\n",
              "    <tr style=\"text-align: right;\">\n",
              "      <th></th>\n",
              "      <th>Age</th>\n",
              "    </tr>\n",
              "  </thead>\n",
              "  <tbody>\n",
              "    <tr>\n",
              "      <th>min</th>\n",
              "      <td>17</td>\n",
              "    </tr>\n",
              "    <tr>\n",
              "      <th>max</th>\n",
              "      <td>22</td>\n",
              "    </tr>\n",
              "  </tbody>\n",
              "</table>\n",
              "</div>"
            ],
            "text/plain": [
              "     Age\n",
              "min   17\n",
              "max   22"
            ]
          },
          "execution_count": 54,
          "metadata": {},
          "output_type": "execute_result"
        }
      ],
      "source": [
        "import pandas as pd\n",
        "df=pd.read_csv('D:\\\\names.csv')\n",
        "a[:10]\n",
        "a.aggregate({'Age':['min','max']})"
      ]
    },
    {
      "cell_type": "code",
      "execution_count": null,
      "id": "21a401e0",
      "metadata": {
        "id": "21a401e0",
        "outputId": "06f3247e-54a3-49c4-fd1e-4aedfcdfa048"
      },
      "outputs": [
        {
          "data": {
            "text/html": [
              "<div>\n",
              "<style scoped>\n",
              "    .dataframe tbody tr th:only-of-type {\n",
              "        vertical-align: middle;\n",
              "    }\n",
              "\n",
              "    .dataframe tbody tr th {\n",
              "        vertical-align: top;\n",
              "    }\n",
              "\n",
              "    .dataframe thead th {\n",
              "        text-align: right;\n",
              "    }\n",
              "</style>\n",
              "<table border=\"1\" class=\"dataframe\">\n",
              "  <thead>\n",
              "    <tr style=\"text-align: right;\">\n",
              "      <th></th>\n",
              "      <th>s.no</th>\n",
              "      <th>Name</th>\n",
              "      <th>Age</th>\n",
              "      <th>mobile</th>\n",
              "      <th>mail</th>\n",
              "      <th>mail.1</th>\n",
              "      <th>mail.2</th>\n",
              "      <th>Unnamed: 7</th>\n",
              "      <th>Unnamed: 8</th>\n",
              "      <th>Unnamed: 9</th>\n",
              "      <th>Unnamed: 10</th>\n",
              "      <th>Unnamed: 11</th>\n",
              "      <th>Unnamed: 12</th>\n",
              "      <th>Unnamed: 13</th>\n",
              "    </tr>\n",
              "  </thead>\n",
              "  <tbody>\n",
              "    <tr>\n",
              "      <th>0</th>\n",
              "      <td>1</td>\n",
              "      <td>bhagyesh</td>\n",
              "      <td>18</td>\n",
              "      <td>9874581585</td>\n",
              "      <td>**@gitam.in</td>\n",
              "      <td>NaN</td>\n",
              "      <td>*****</td>\n",
              "      <td>NaN</td>\n",
              "      <td>NaN</td>\n",
              "      <td>NaN</td>\n",
              "      <td>NaN</td>\n",
              "      <td>NaN</td>\n",
              "      <td>NaN</td>\n",
              "      <td>NaN</td>\n",
              "    </tr>\n",
              "    <tr>\n",
              "      <th>1</th>\n",
              "      <td>2</td>\n",
              "      <td>chaitu</td>\n",
              "      <td>18</td>\n",
              "      <td>7780442077</td>\n",
              "      <td>**@gitam.in</td>\n",
              "      <td>.in</td>\n",
              "      <td>*****</td>\n",
              "      <td>NaN</td>\n",
              "      <td>NaN</td>\n",
              "      <td>NaN</td>\n",
              "      <td>NaN</td>\n",
              "      <td>NaN</td>\n",
              "      <td>NaN</td>\n",
              "      <td>NaN</td>\n",
              "    </tr>\n",
              "    <tr>\n",
              "      <th>2</th>\n",
              "      <td>3</td>\n",
              "      <td>aravind</td>\n",
              "      <td>17</td>\n",
              "      <td>7780442088</td>\n",
              "      <td>**@gitam.in</td>\n",
              "      <td>NaN</td>\n",
              "      <td>******</td>\n",
              "      <td>NaN</td>\n",
              "      <td>NaN</td>\n",
              "      <td>NaN</td>\n",
              "      <td>NaN</td>\n",
              "      <td>NaN</td>\n",
              "      <td>NaN</td>\n",
              "      <td>NaN</td>\n",
              "    </tr>\n",
              "    <tr>\n",
              "      <th>3</th>\n",
              "      <td>4</td>\n",
              "      <td>harsha</td>\n",
              "      <td>17</td>\n",
              "      <td>7780442011</td>\n",
              "      <td>**@gitam.in</td>\n",
              "      <td>NaN</td>\n",
              "      <td>*****</td>\n",
              "      <td>NaN</td>\n",
              "      <td>NaN</td>\n",
              "      <td>NaN</td>\n",
              "      <td>NaN</td>\n",
              "      <td>NaN</td>\n",
              "      <td>NaN</td>\n",
              "      <td>NaN</td>\n",
              "    </tr>\n",
              "    <tr>\n",
              "      <th>4</th>\n",
              "      <td>5</td>\n",
              "      <td>karthik</td>\n",
              "      <td>17</td>\n",
              "      <td>9875638271</td>\n",
              "      <td>**@gitam.in</td>\n",
              "      <td>NaN</td>\n",
              "      <td>*****</td>\n",
              "      <td>NaN</td>\n",
              "      <td>NaN</td>\n",
              "      <td>NaN</td>\n",
              "      <td>NaN</td>\n",
              "      <td>NaN</td>\n",
              "      <td>NaN</td>\n",
              "      <td>NaN</td>\n",
              "    </tr>\n",
              "    <tr>\n",
              "      <th>5</th>\n",
              "      <td>6</td>\n",
              "      <td>subbu</td>\n",
              "      <td>18</td>\n",
              "      <td>8294629163</td>\n",
              "      <td>**@gitam.in</td>\n",
              "      <td>NaN</td>\n",
              "      <td>*****</td>\n",
              "      <td>NaN</td>\n",
              "      <td>NaN</td>\n",
              "      <td>NaN</td>\n",
              "      <td>NaN</td>\n",
              "      <td>NaN</td>\n",
              "      <td>NaN</td>\n",
              "      <td>NaN</td>\n",
              "    </tr>\n",
              "    <tr>\n",
              "      <th>6</th>\n",
              "      <td>7</td>\n",
              "      <td>nithin</td>\n",
              "      <td>19</td>\n",
              "      <td>2738263826</td>\n",
              "      <td>**@gitam.in</td>\n",
              "      <td>NaN</td>\n",
              "      <td>*****</td>\n",
              "      <td>NaN</td>\n",
              "      <td>NaN</td>\n",
              "      <td>NaN</td>\n",
              "      <td>NaN</td>\n",
              "      <td>NaN</td>\n",
              "      <td>NaN</td>\n",
              "      <td></td>\n",
              "    </tr>\n",
              "    <tr>\n",
              "      <th>7</th>\n",
              "      <td>8</td>\n",
              "      <td>jogi</td>\n",
              "      <td>22</td>\n",
              "      <td>6382936237</td>\n",
              "      <td>**@gitam.in</td>\n",
              "      <td>NaN</td>\n",
              "      <td>****</td>\n",
              "      <td>NaN</td>\n",
              "      <td>NaN</td>\n",
              "      <td>NaN</td>\n",
              "      <td>NaN</td>\n",
              "      <td>NaN</td>\n",
              "      <td>NaN</td>\n",
              "      <td>NaN</td>\n",
              "    </tr>\n",
              "    <tr>\n",
              "      <th>8</th>\n",
              "      <td>9</td>\n",
              "      <td>banu</td>\n",
              "      <td>20</td>\n",
              "      <td>3563726372</td>\n",
              "      <td>**@gitam.in</td>\n",
              "      <td>NaN</td>\n",
              "      <td>******</td>\n",
              "      <td>NaN</td>\n",
              "      <td>NaN</td>\n",
              "      <td>NaN</td>\n",
              "      <td>NaN</td>\n",
              "      <td>NaN</td>\n",
              "      <td>NaN</td>\n",
              "      <td>NaN</td>\n",
              "    </tr>\n",
              "    <tr>\n",
              "      <th>9</th>\n",
              "      <td>10</td>\n",
              "      <td>puli</td>\n",
              "      <td>20</td>\n",
              "      <td>8982773628</td>\n",
              "      <td>**@gitam.in</td>\n",
              "      <td>NaN</td>\n",
              "      <td>*****</td>\n",
              "      <td>NaN</td>\n",
              "      <td>NaN</td>\n",
              "      <td>NaN</td>\n",
              "      <td>NaN</td>\n",
              "      <td>NaN</td>\n",
              "      <td>NaN</td>\n",
              "      <td>NaN</td>\n",
              "    </tr>\n",
              "  </tbody>\n",
              "</table>\n",
              "</div>"
            ],
            "text/plain": [
              "   s.no     Name   Age      mobile         mail mail.1  mail.2  Unnamed: 7  \\\n",
              "0     1  bhagyesh   18  9874581585  **@gitam.in    NaN   *****         NaN   \n",
              "1     2    chaitu   18  7780442077  **@gitam.in    .in   *****         NaN   \n",
              "2     3   aravind   17  7780442088  **@gitam.in    NaN  ******         NaN   \n",
              "3     4   harsha    17  7780442011  **@gitam.in    NaN   *****         NaN   \n",
              "4     5   karthik   17  9875638271  **@gitam.in    NaN   *****         NaN   \n",
              "5     6     subbu   18  8294629163  **@gitam.in    NaN   *****         NaN   \n",
              "6     7    nithin   19  2738263826  **@gitam.in    NaN   *****         NaN   \n",
              "7     8      jogi   22  6382936237  **@gitam.in    NaN    ****         NaN   \n",
              "8     9      banu   20  3563726372  **@gitam.in    NaN  ******         NaN   \n",
              "9    10      puli   20  8982773628  **@gitam.in    NaN   *****         NaN   \n",
              "\n",
              "   Unnamed: 8  Unnamed: 9  Unnamed: 10  Unnamed: 11  Unnamed: 12 Unnamed: 13  \n",
              "0         NaN         NaN          NaN          NaN          NaN         NaN  \n",
              "1         NaN         NaN          NaN          NaN          NaN         NaN  \n",
              "2         NaN         NaN          NaN          NaN          NaN         NaN  \n",
              "3         NaN         NaN          NaN          NaN          NaN         NaN  \n",
              "4         NaN         NaN          NaN          NaN          NaN         NaN  \n",
              "5         NaN         NaN          NaN          NaN          NaN         NaN  \n",
              "6         NaN         NaN          NaN          NaN          NaN              \n",
              "7         NaN         NaN          NaN          NaN          NaN         NaN  \n",
              "8         NaN         NaN          NaN          NaN          NaN         NaN  \n",
              "9         NaN         NaN          NaN          NaN          NaN         NaN  "
            ]
          },
          "execution_count": 55,
          "metadata": {},
          "output_type": "execute_result"
        }
      ],
      "source": [
        "import pandas as pd \n",
        "a=pd.read_csv('D:\\\\names.csv')\n",
        "a[:10]"
      ]
    },
    {
      "cell_type": "code",
      "execution_count": null,
      "id": "176ba7ac",
      "metadata": {
        "id": "176ba7ac",
        "outputId": "87b591d7-27e4-451d-8673-9584d596782b"
      },
      "outputs": [
        {
          "data": {
            "text/html": [
              "<div>\n",
              "<style scoped>\n",
              "    .dataframe tbody tr th:only-of-type {\n",
              "        vertical-align: middle;\n",
              "    }\n",
              "\n",
              "    .dataframe tbody tr th {\n",
              "        vertical-align: top;\n",
              "    }\n",
              "\n",
              "    .dataframe thead th {\n",
              "        text-align: right;\n",
              "    }\n",
              "</style>\n",
              "<table border=\"1\" class=\"dataframe\">\n",
              "  <thead>\n",
              "    <tr style=\"text-align: right;\">\n",
              "      <th></th>\n",
              "      <th>mobile</th>\n",
              "    </tr>\n",
              "  </thead>\n",
              "  <tbody>\n",
              "    <tr>\n",
              "      <th>min</th>\n",
              "      <td>1958194192</td>\n",
              "    </tr>\n",
              "    <tr>\n",
              "      <th>max</th>\n",
              "      <td>9989368264</td>\n",
              "    </tr>\n",
              "  </tbody>\n",
              "</table>\n",
              "</div>"
            ],
            "text/plain": [
              "         mobile\n",
              "min  1958194192\n",
              "max  9989368264"
            ]
          },
          "execution_count": 56,
          "metadata": {},
          "output_type": "execute_result"
        }
      ],
      "source": [
        "import pandas as pd\n",
        "a=pd.read_csv('D:\\\\names.csv')\n",
        "a[:10]\n",
        "a.aggregate({'mobile':['min','max']})"
      ]
    },
    {
      "cell_type": "code",
      "execution_count": null,
      "id": "ec93478a",
      "metadata": {
        "id": "ec93478a",
        "outputId": "7c6d8bba-40ce-4643-f90b-a59a0806b70a"
      },
      "outputs": [
        {
          "data": {
            "text/html": [
              "<div>\n",
              "<style scoped>\n",
              "    .dataframe tbody tr th:only-of-type {\n",
              "        vertical-align: middle;\n",
              "    }\n",
              "\n",
              "    .dataframe tbody tr th {\n",
              "        vertical-align: top;\n",
              "    }\n",
              "\n",
              "    .dataframe thead th {\n",
              "        text-align: right;\n",
              "    }\n",
              "</style>\n",
              "<table border=\"1\" class=\"dataframe\">\n",
              "  <thead>\n",
              "    <tr style=\"text-align: right;\">\n",
              "      <th></th>\n",
              "      <th>mail</th>\n",
              "    </tr>\n",
              "  </thead>\n",
              "  <tbody>\n",
              "    <tr>\n",
              "      <th>min</th>\n",
              "      <td>**@gitam.in</td>\n",
              "    </tr>\n",
              "    <tr>\n",
              "      <th>max</th>\n",
              "      <td>**@gitam.in</td>\n",
              "    </tr>\n",
              "  </tbody>\n",
              "</table>\n",
              "</div>"
            ],
            "text/plain": [
              "            mail\n",
              "min  **@gitam.in\n",
              "max  **@gitam.in"
            ]
          },
          "execution_count": 57,
          "metadata": {},
          "output_type": "execute_result"
        }
      ],
      "source": [
        "import pandas as pd\n",
        "a=pd.read_csv('D:\\\\names.csv')\n",
        "a[:10]\n",
        "a.aggregate({'mail':['min','max']})"
      ]
    },
    {
      "cell_type": "code",
      "execution_count": null,
      "id": "eaea1219",
      "metadata": {
        "id": "eaea1219",
        "outputId": "ac40377c-8a47-4db4-dfcc-1fe7e305c9ed"
      },
      "outputs": [
        {
          "name": "stdout",
          "output_type": "stream",
          "text": [
            "<class 'pandas.core.groupby.generic.DataFrameGroupBy'>\n",
            "                   0                                                  1\n",
            "0   (1958194192, 19)      s.no  Name   Age      mobile         mail ...\n",
            "1   (2738263826, 19)     s.no   Name   Age      mobile         mail ...\n",
            "2   (3563726372, 20)     s.no Name   Age      mobile         mail ma...\n",
            "3   (4729346292, 18)      s.no  Name   Age      mobile         mail ...\n",
            "4   (6382936237, 22)     s.no Name   Age      mobile         mail ma...\n",
            "5   (7780442011, 17)     s.no    Name   Age      mobile         mail...\n",
            "6   (7780442077, 18)     s.no   Name   Age      mobile         mail ...\n",
            "7   (7780442088, 17)     s.no    Name   Age      mobile         mail...\n",
            "8   (7981769148, 18)      s.no     Name   Age      mobile         ma...\n",
            "9   (8193728361, 18)      s.no  Name   Age      mobile         mail ...\n",
            "10  (8294629163, 18)     s.no  Name   Age      mobile         mail m...\n",
            "11  (8341287189, 18)      s.no  Name   Age      mobile         mail ...\n",
            "12  (8631458537, 18)      s.no Name   Age      mobile         mail m...\n",
            "13  (8982773628, 20)     s.no Name   Age      mobile         mail ma...\n",
            "14  (9126551955, 18)      s.no   Name   Age      mobile         mail...\n",
            "15  (9135693591, 18)      s.no  Name   Age      mobile         mail ...\n",
            "16  (9135926954, 18)      s.no   Name   Age      mobile         mail...\n",
            "17  (9156359126, 18)      s.no   Name   Age      mobile         mail...\n",
            "18  (9162549145, 18)      s.no    Name   Age      mobile         mai...\n",
            "19  (9163518458, 19)      s.no    Name   Age      mobile         mai...\n",
            "20  (9273461836, 18)      s.no  Name   Age      mobile         mail ...\n",
            "21  (9361836173, 18)      s.no   Name   Age      mobile         mail...\n",
            "22  (9374683654, 19)      s.no    Name   Age      mobile         mai...\n",
            "23  (9495419516, 19)      s.no  Name   Age      mobile         mail ...\n",
            "24  (9641586458, 18)      s.no Name   Age      mobile         mail m...\n",
            "25  (9784143538, 18)      s.no   Name   Age      mobile         mail...\n",
            "26  (9874581585, 18)     s.no     Name   Age      mobile         mai...\n",
            "27  (9875638271, 17)     s.no    Name   Age      mobile         mail...\n",
            "28  (9989348838, 18)      s.no    Name   Age      mobile         mai...\n",
            "29  (9989368264, 19)      s.no    Name   Age      mobile         mai...\n"
          ]
        }
      ],
      "source": [
        "import pandas as vk\n",
        "a = df.groupby(['mobile','Age'])\n",
        "print(type(a))\n",
        "print(pd.DataFrame(a))"
      ]
    },
    {
      "cell_type": "code",
      "execution_count": null,
      "id": "2bdf86d4",
      "metadata": {
        "id": "2bdf86d4"
      },
      "outputs": [],
      "source": [
        ""
      ]
    },
    {
      "cell_type": "code",
      "execution_count": null,
      "id": "814b14c6",
      "metadata": {
        "id": "814b14c6"
      },
      "outputs": [],
      "source": [
        ""
      ]
    }
  ],
  "metadata": {
    "kernelspec": {
      "display_name": "Python 3 (ipykernel)",
      "language": "python",
      "name": "python3"
    },
    "language_info": {
      "codemirror_mode": {
        "name": "ipython",
        "version": 3
      },
      "file_extension": ".py",
      "mimetype": "text/x-python",
      "name": "python",
      "nbconvert_exporter": "python",
      "pygments_lexer": "ipython3",
      "version": "3.9.7"
    },
    "colab": {
      "name": "Untitled-Copy1.ipynb",
      "provenance": [],
      "include_colab_link": true
    }
  },
  "nbformat": 4,
  "nbformat_minor": 5
}