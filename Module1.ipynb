{
  "nbformat": 4,
  "nbformat_minor": 0,
  "metadata": {
    "colab": {
      "name": "Module1.ipynb",
      "provenance": [],
      "collapsed_sections": [],
      "include_colab_link": true
    },
    "kernelspec": {
      "name": "python3",
      "display_name": "Python 3"
    },
    "language_info": {
      "name": "python"
    }
  },
  "cells": [
    {
      "cell_type": "markdown",
      "metadata": {
        "id": "view-in-github",
        "colab_type": "text"
      },
      "source": [
        "<a href=\"https://colab.research.google.com/github/bhagye/phyton-new/blob/module-1/Module1.ipynb\" target=\"_parent\"><img src=\"https://colab.research.google.com/assets/colab-badge.svg\" alt=\"Open In Colab\"/></a>"
      ]
    },
    {
      "cell_type": "code",
      "execution_count": null,
      "metadata": {
        "colab": {
          "base_uri": "https://localhost:8080/"
        },
        "id": "dHboY_h2Qxgm",
        "outputId": "57fa8dd0-c05b-4d2e-f32a-df47d44cfab3"
      },
      "outputs": [
        {
          "output_type": "stream",
          "name": "stdout",
          "text": [
            "enter the value10\n",
            "10\n"
          ]
        }
      ],
      "source": [
        "## Accept input from user and store it in variable and print the value\n",
        "a=int(input(\"enter the value\"))\n",
        "print(a)"
      ]
    },
    {
      "cell_type": "code",
      "source": [
        "## Use of print statements and use of (.format )for printing different data types\n",
        "tickets=10\n",
        "movie=\"RRR\"\n",
        "cost=2000\n",
        "d=\"i want {} tickets for {} movie at {} rupees\"\n",
        "print(d.format(tickets,movie,cost))"
      ],
      "metadata": {
        "colab": {
          "base_uri": "https://localhost:8080/"
        },
        "id": "qU_7bYrpRRta",
        "outputId": "d348c9de-4ccf-470e-99c8-30a393bb2169"
      },
      "execution_count": null,
      "outputs": [
        {
          "output_type": "stream",
          "name": "stdout",
          "text": [
            "i want 10 tickets for RRR movie at 2000 rupees\n"
          ]
        }
      ]
    },
    {
      "cell_type": "code",
      "source": [
        "  ## Take 2 numbers as user input and add, multiply, divide, subtract, remainder and print the output\n",
        "  a=int(input(\"enter the value\"))\n",
        "  b=int(input(\"enter the value\"))\n",
        "  add=a+b\n",
        "  print(add)\n",
        "  multiply=a*b\n",
        "  print(multiply)\n",
        "  divide=a/b\n",
        "  print(divide)\n",
        "  subract=a-b\n",
        "  print(subract)\n",
        "  rem=a%b\n",
        "  print(rem)"
      ],
      "metadata": {
        "id": "hCxTmADmTPf_",
        "colab": {
          "base_uri": "https://localhost:8080/"
        },
        "outputId": "653766d2-279b-4bf5-d726-344e67c52aa1"
      },
      "execution_count": null,
      "outputs": [
        {
          "output_type": "stream",
          "name": "stdout",
          "text": [
            "enter the value15\n",
            "enter the value5\n",
            "20\n",
            "75\n",
            "3.0\n",
            "10\n",
            "0\n"
          ]
        }
      ]
    },
    {
      "cell_type": "code",
      "source": [
        "## Take 2 numbers as user input and add, multiply, divide, subtract, remainder and print the output on floating point input\n",
        "a=float(input(\"enter the value\"))\n",
        "b=float(input(\"enter the value\"))\n",
        "add=a+b\n",
        "print(add)\n",
        "multiply=a*b\n",
        "print(multiply)\n",
        "divide=a/b\n",
        "print(divide)\n",
        "subract=a-b\n",
        "print(subract)\n",
        "rem=a%b\n",
        "print(rem)"
      ],
      "metadata": {
        "colab": {
          "base_uri": "https://localhost:8080/"
        },
        "id": "8mgtZ3--e72I",
        "outputId": "5dab637d-bf43-4b1c-cdcd-d131f79927df"
      },
      "execution_count": null,
      "outputs": [
        {
          "output_type": "stream",
          "name": "stdout",
          "text": [
            "enter the value15.25\n",
            "enter the value5.06\n",
            "20.31\n",
            "77.16499999999999\n",
            "3.013833992094862\n",
            "10.190000000000001\n",
            "0.07000000000000117\n"
          ]
        }
      ]
    },
    {
      "cell_type": "code",
      "source": [
        "## Usage of mathematical functions in python like math.ceil, floor, fabs, fmod, trunc, pow, sqrt etc.\n",
        "import math \n",
        "my_int=4.5467\n",
        "print(math.ceil(my_int))\n",
        "print(math.floor(my_int))\n",
        "print(math.fabs(my_int))\n",
        "print(math.fmod(4.5467, 5.2165))\n",
        "print(math.trunc(my_int))\n",
        "print(math.pow(4.5467, 5.2165))\n",
        "print(math.sqrt(my_int))"
      ],
      "metadata": {
        "colab": {
          "base_uri": "https://localhost:8080/"
        },
        "id": "VVMt-ATAgs7w",
        "outputId": "8994c182-122e-4702-fe30-a0f1267ce4e4"
      },
      "execution_count": null,
      "outputs": [
        {
          "output_type": "stream",
          "name": "stdout",
          "text": [
            "5\n",
            "4\n",
            "4.5467\n",
            "4.5467\n",
            "4\n",
            "2696.9490793468362\n",
            "2.132299228532431\n"
          ]
        }
      ]
    },
    {
      "cell_type": "code",
      "source": [
        "## Building a mathematical calculator that can perform operations according to user input. Use decision making statement\n",
        "def add(x, y):\n",
        "    return x + y\n",
        "def subtract(x, y):\n",
        "    return x - y\n",
        "def multiply(x, y):\n",
        "    return x * y\n",
        "def divide(x, y):\n",
        "    return x / y\n",
        "print(\"Select operation.\")\n",
        "print(\"1.Add\")\n",
        "print(\"2.Subtract\")\n",
        "print(\"3.Multiply\")\n",
        "print(\"4.Divide\")\n",
        "\n",
        "while True:\n",
        "    choice = input(\"Enter choice(1/2/3/4): \")\n",
        "    if choice in ('1', '2', '3', '4'):\n",
        "        num1 = float(input(\"Enter first number: \"))\n",
        "        num2 = float(input(\"Enter second number: \"))\n",
        "        if choice == '1':\n",
        "            print(num1, \"+\", num2, \"=\", add(num1, num2))\n",
        "        elif choice == '2':\n",
        "            print(num1, \"-\", num2, \"=\", subtract(num1, num2))\n",
        "        elif choice == '3':\n",
        "            print(num1, \"*\", num2, \"=\", multiply(num1, num2))\n",
        "        elif choice == '4':\n",
        "            print(num1, \"/\", num2, \"=\", divide(num1, num2))\n",
        "        next_calculation = input(\"Let's do next calculation? (yes/no): \")\n",
        "        if next_calculation == \"no\":\n",
        "          break\n",
        "    \n",
        "    else:\n",
        "        print(\"Invalid Input\")"
      ],
      "metadata": {
        "colab": {
          "base_uri": "https://localhost:8080/"
        },
        "id": "mtW2HUpVkNin",
        "outputId": "d06f3bff-94a1-4c55-c319-fd77188ed697"
      },
      "execution_count": null,
      "outputs": [
        {
          "name": "stdout",
          "output_type": "stream",
          "text": [
            "Select operation.\n",
            "1.Add\n",
            "2.Subtract\n",
            "3.Multiply\n",
            "4.Divide\n",
            "Enter choice(1/2/3/4): 2\n",
            "Enter first number: 55\n",
            "Enter second number: 25\n",
            "55.0 - 25.0 = 30.0\n",
            "Let's do next calculation? (yes/no): yes\n",
            "Enter choice(1/2/3/4): 3\n",
            "Enter first number: 25\n",
            "Enter second number: 5\n",
            "25.0 * 5.0 = 125.0\n",
            "Let's do next calculation? (yes/no): no\n"
          ]
        }
      ]
    },
    {
      "cell_type": "code",
      "source": [
        "## Accepting 5 different subject marks from user and displaying the grade of the student.\n",
        "a=int(input(\"enter the marks of subject1 \"))\n",
        "b=int(input(\"enter the marks of subject2 \"))\n",
        "c=int(input(\"enter the marks of subject3 \"))\n",
        "d=int(input(\"enter the marks of subject4 \"))\n",
        "e=int(input(\"enter the marks of subject5 \"))\n",
        "avg=(a+b+c+d+e)/5\n",
        "if avg>90:\n",
        "  print(\"O grade\")\n",
        "elif 80<avg<90:\n",
        "  print(\"A grade\")\n",
        "elif 70<avg<80:\n",
        "  print(\"B grade\")\n",
        "elif 60<avg<70:\n",
        "  print(\"C grade\")\n",
        "elif 50<avg<60:\n",
        "  print(\"Pass\")\n",
        "else:\n",
        "  print(\"Fail\")"
      ],
      "metadata": {
        "colab": {
          "base_uri": "https://localhost:8080/"
        },
        "id": "vTGZfFZHmbMQ",
        "outputId": "c6246135-4e63-489a-b27a-ec4932fb2edc"
      },
      "execution_count": null,
      "outputs": [
        {
          "output_type": "stream",
          "name": "stdout",
          "text": [
            "enter the marks of subject1 50\n",
            "enter the marks of subject2 90\n",
            "enter the marks of subject3 40\n",
            "enter the marks of subject4 60\n",
            "enter the marks of subject5 80\n",
            "C grade\n"
          ]
        }
      ]
    },
    {
      "cell_type": "code",
      "source": [
        "## Conversion of one unit to another (such as hours to minutes, miles to km and etc)\n",
        "a=float(input(\"enter hours\"))\n",
        "print(\"minutes are= \",a*60)\n",
        "b=float(input(\"enter miles\"))\n",
        "print(\"km are= \",b*1.6)"
      ],
      "metadata": {
        "colab": {
          "base_uri": "https://localhost:8080/"
        },
        "id": "Mmbju5Vby7d0",
        "outputId": "0be0e02c-2ab7-4d87-f4d3-11d796a2cd3e"
      },
      "execution_count": null,
      "outputs": [
        {
          "output_type": "stream",
          "name": "stdout",
          "text": [
            "enter hours5\n",
            "minutes are=  300.0\n",
            "enter miles5\n",
            "km are=  8.0\n"
          ]
        }
      ]
    },
    {
      "cell_type": "code",
      "source": [
        "## Printing all even numbers, odd numbers, count of even numbers, count of odd numbers within a given range.\n",
        "n=int(input(\"enter range \"))\n",
        "c=0\n",
        "for i in range(1,n+1):\n",
        " if i%2==0:\n",
        "   c+=1\n",
        "   print(i)\n",
        "\n",
        "print(\"even count is \",c)\n",
        "\n",
        "d=0\n",
        "for i in range(1,n+1):\n",
        "  if i%2!=0: \n",
        "    d+=1\n",
        "    print(i)\n",
        "\n",
        "print(\"odd count is \",d)"
      ],
      "metadata": {
        "colab": {
          "base_uri": "https://localhost:8080/"
        },
        "id": "x7-tAGp-zHQU",
        "outputId": "f4c705a2-1b82-4ee7-d476-6439054acd7e"
      },
      "execution_count": null,
      "outputs": [
        {
          "output_type": "stream",
          "name": "stdout",
          "text": [
            "enter range 10\n",
            "2\n",
            "4\n",
            "6\n",
            "8\n",
            "10\n",
            "even count is  5\n",
            "1\n",
            "3\n",
            "5\n",
            "7\n",
            "9\n",
            "odd count is  5\n"
          ]
        }
      ]
    },
    {
      "cell_type": "code",
      "source": [
        "#Compute the factorial of a given number.\n",
        "n=int(input(\"enter a number \"))\n",
        "fac=1\n",
        "for i in range(1,n+1):\n",
        "  fac=fac*i\n",
        "\n",
        "print(fac)"
      ],
      "metadata": {
        "colab": {
          "base_uri": "https://localhost:8080/"
        },
        "id": "Q5Ho1-fWzeHg",
        "outputId": "79e5f9db-289c-4082-c658-a3b839b458e9"
      },
      "execution_count": null,
      "outputs": [
        {
          "output_type": "stream",
          "name": "stdout",
          "text": [
            "enter a number 5\n",
            "120\n"
          ]
        }
      ]
    },
    {
      "cell_type": "code",
      "source": [
        "## Compute GCD of two given \n",
        "a=int(input(\"enter a number\"))\n",
        "b=int(input(\"enter a number\"))\n",
        "k=a if a<b else b\n",
        "while True:\n",
        "    if a%k==0 and b%k==0:\n",
        "     break\n",
        "    k -=1\n",
        "print(k)\n"
      ],
      "metadata": {
        "colab": {
          "base_uri": "https://localhost:8080/"
        },
        "id": "WvtE8_GfzmrI",
        "outputId": "e44c78e0-dcb1-42a9-c101-4ad891bc874d"
      },
      "execution_count": null,
      "outputs": [
        {
          "output_type": "stream",
          "name": "stdout",
          "text": [
            "enter a number5\n",
            "enter a number6\n",
            "1\n"
          ]
        }
      ]
    },
    {
      "cell_type": "code",
      "source": [
        "## Check whether the given input is palindrome\n",
        "def isPalindrome(s):\n",
        "\treturn s==s[::-1]\n",
        "\n",
        "s=input(\"enter the value\")\n",
        "ans=isPalindrome(s)\n",
        "\n",
        "if ans:\n",
        "\tprint(\"Yes\")\n",
        "else:\n",
        "\tprint(\"No\")"
      ],
      "metadata": {
        "colab": {
          "base_uri": "https://localhost:8080/"
        },
        "id": "6JA3NXAil-di",
        "outputId": "fb89ef76-e3fe-428b-c469-c8b04b95a5c2"
      },
      "execution_count": null,
      "outputs": [
        {
          "output_type": "stream",
          "name": "stdout",
          "text": [
            "enter the value1020310\\\n",
            "No\n"
          ]
        }
      ]
    },
    {
      "cell_type": "code",
      "source": [
        "## Check whether the given input is strong number\n",
        "sum=0   \n",
        "num=int(input(\"Enter a number:\"))  \n",
        "temp=num  \n",
        "while(num): \n",
        "    i=1  \n",
        "    fact=1  \n",
        "    rem=num%10  \n",
        "    while(i<=rem):  \n",
        "        fact=fact*i\n",
        "        i=i+1  \n",
        "    sum=sum+fact  \n",
        "    num=num//10  \n",
        "if(sum==temp):  \n",
        "    print(\"Given number is a strong number\")  \n",
        "else:  \n",
        "    print(\"Given number is not a strong number\")"
      ],
      "metadata": {
        "colab": {
          "base_uri": "https://localhost:8080/"
        },
        "id": "XJDx-YxBmvFk",
        "outputId": "7bbb6c0f-7a7f-4872-9e46-90889217bdc4"
      },
      "execution_count": null,
      "outputs": [
        {
          "output_type": "stream",
          "name": "stdout",
          "text": [
            "Enter a number:52123\n",
            "Given number is not a strong number\n"
          ]
        }
      ]
    },
    {
      "cell_type": "code",
      "source": [
        "##  Check whether the given input is perfect number\n",
        "n = int(input(\"Enter any number: \"))\n",
        "sum1 = 0\n",
        "for i in range(1, n):\n",
        "    if(n % i == 0):\n",
        "        sum1 = sum1 + i\n",
        "if (sum1 == n):\n",
        "    print(\"The number is a Perfect number!\")\n",
        "else:\n",
        "    print(\"The number is not a Perfect number!\")"
      ],
      "metadata": {
        "colab": {
          "base_uri": "https://localhost:8080/"
        },
        "id": "kY2q2xdlqFy0",
        "outputId": "f5be2202-4d3b-4c62-f418-41787e611083"
      },
      "execution_count": null,
      "outputs": [
        {
          "output_type": "stream",
          "name": "stdout",
          "text": [
            "Enter any number: 6\n",
            "The number is a Perfect number!\n"
          ]
        }
      ]
    },
    {
      "cell_type": "code",
      "source": [
        "## Compute compound interest using loop for a certain principal and interest amount\n",
        "n=int(input(\"Enter the principle amount:\"))\n",
        "rate=int(input(\"Enter the rate:\"))\n",
        "years=int(input(\"Enter the number of years:\"))\n",
        "for i in range(years):\n",
        "    n=n+((n*rate)/100)\n",
        "print(n)"
      ],
      "metadata": {
        "colab": {
          "base_uri": "https://localhost:8080/"
        },
        "id": "8xBXiEBbqfyA",
        "outputId": "74ce12be-0745-4ca4-84d3-53ced5ca94d2"
      },
      "execution_count": null,
      "outputs": [
        {
          "output_type": "stream",
          "name": "stdout",
          "text": [
            "Enter the principle amount:100000\n",
            "Enter the rate:2\n",
            "Enter the number of years:3\n",
            "106120.8\n"
          ]
        }
      ]
    }
  ]
}